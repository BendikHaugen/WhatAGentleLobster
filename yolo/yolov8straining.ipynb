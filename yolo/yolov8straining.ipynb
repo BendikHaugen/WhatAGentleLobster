{
 "cells": [
  {
   "cell_type": "code",
   "execution_count": null,
   "metadata": {},
   "outputs": [],
   "source": [
    "import os\n",
    "HOME = os.getcwd()\n",
    "print(HOME)\n",
    "\n",
    "%cd {HOME}\n",
    "!git clone https://github.com/ultralytics/ultralytics.git\n",
    "\n",
    "%cd {HOME}/ultralytics\n",
    "!pip install -e .\n",
    "\n",
    "\n"
   ]
  },
  {
   "cell_type": "code",
   "execution_count": null,
   "metadata": {},
   "outputs": [],
   "source": [
    "from IPython import display\n",
    "display.clear_output()\n",
    "import ultralytics\n",
    "ultralytics.checks()\n"
   ]
  },
  {
   "cell_type": "code",
   "execution_count": null,
   "metadata": {},
   "outputs": [],
   "source": [
    "# !mkdir {HOME}/datasets\n",
    "# %cd {HOME}/datasets\n",
    "# \n",
    "# !pip install roboflow\n",
    "# from roboflow import Roboflow\n",
    "# rf = Roboflow(api_key=\"D188B9J3oPNYVpUpoKHC\")\n",
    "# project = rf.workspace(\"tdt17-eb2t3\").project(\"ai-ai-ai-what-a-gentle-lobster\")\n",
    "# dataset = project.version(1).download(\"yolov8\")"
   ]
  },
  {
   "cell_type": "code",
   "execution_count": null,
   "metadata": {},
   "outputs": [],
   "source": [
    "%cd {HOME}\n",
    "!yolo task=detect mode=train model=yolov8s.pt data=\"/cluster/home/bendihh/tdt17/datasets/data.yaml\" epochs=200 plots=True\n"
   ]
  },
  {
   "cell_type": "code",
   "execution_count": null,
   "metadata": {},
   "outputs": [],
   "source": []
  }
 ],
 "metadata": {
  "language_info": {
   "name": "python"
  },
  "orig_nbformat": 4
 },
 "nbformat": 4,
 "nbformat_minor": 2
}
