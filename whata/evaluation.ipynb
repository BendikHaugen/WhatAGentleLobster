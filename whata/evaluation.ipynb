{
 "cells": [
  {
   "cell_type": "code",
   "execution_count": null,
   "metadata": {},
   "outputs": [
    {
     "ename": "",
     "evalue": "",
     "output_type": "error",
     "traceback": [
      "\u001b[1;31mRunning cells with 'sleap' requires the ipykernel package.\n",
      "\u001b[1;31mRun the following command to install 'ipykernel' into the Python environment. \n",
      "\u001b[1;31mCommand: 'conda install -n sleap ipykernel --update-deps --force-reinstall'"
     ]
    }
   ],
   "source": [
    "import sleap\n",
    "import numpy as np\n",
    "import pandas as pd\n",
    "import matplotlib as mpl\n",
    "import matplotlib.pyplot as plt\n",
    "import seaborn as sns\n",
    "\n",
    "mpl.style.use(\"seaborn-deep\")\n",
    "sleap.versions()"
   ]
  },
  {
   "cell_type": "code",
   "execution_count": 3,
   "metadata": {},
   "outputs": [
    {
     "name": "stderr",
     "output_type": "stream",
     "text": [
      "UsageError: Line magic function `%unzip` not found.\n"
     ]
    }
   ],
   "source": [
    "metrics = sleap.load_metrics(\"td_fast.210505_012601.centered_instance.n=1800\", split=\"val\")\n",
    "print(\"\\n\".join(metrics.keys()))"
   ]
  },
  {
   "cell_type": "code",
   "execution_count": 4,
   "metadata": {},
   "outputs": [
    {
     "name": "stderr",
     "output_type": "stream",
     "text": [
      "UsageError: Line magic function `%sleap-train` not found.\n"
     ]
    }
   ],
   "source": [
    "print(\"Error distance (50%):\", metrics[\"dist.p50\"])\n",
    "print(\"Error distance (90%):\", metrics[\"dist.p90\"])\n",
    "print(\"Error distance (95%):\", metrics[\"dist.p95\"])\n",
    "plt.figure(figsize=(6, 3), dpi=150, facecolor=\"w\")\n",
    "sns.histplot(metrics[\"dist.dists\"].flatten(), binrange=(0, 20), kde=True, kde_kws={\"clip\": (0, 20)}, stat=\"probability\")\n",
    "plt.xlabel(\"Localization error (px)\")\n",
    "plt.figure(figsize=(6, 3), dpi=150, facecolor=\"w\")\n",
    "sns.histplot(metrics[\"oks_voc.match_scores\"].flatten(), binrange=(0, 1), kde=True, kde_kws={\"clip\": (0, 1)}, stat=\"probability\")\n",
    "plt.xlabel(\"Object Keypoint Similarity\")\n",
    "plt.figure(figsize=(4, 4), dpi=150, facecolor=\"w\")\n",
    "for precision, thresh in zip(metrics[\"oks_voc.precisions\"][::2], metrics[\"oks_voc.match_score_thresholds\"][::2]):\n",
    "    plt.plot(metrics[\"oks_voc.recall_thresholds\"], precision, \"-\", label=f\"OKS @ {thresh:.2f}\")\n",
    "plt.xlabel(\"Recall\")\n",
    "plt.ylabel(\"Precision\")\n",
    "plt.legend(loc=\"lower left\")\n",
    "print(\"mAP:\", metrics[\"oks_voc.mAP\"])\n",
    "print(\"mAR:\", metrics[\"oks_voc.mAR\"])"
   ]
  }
 ],
 "metadata": {
  "kernelspec": {
   "display_name": "sleap",
   "language": "python",
   "name": "python3"
  },
  "language_info": {
   "codemirror_mode": {
    "name": "ipython",
    "version": 3
   },
   "file_extension": ".py",
   "mimetype": "text/x-python",
   "name": "python",
   "nbconvert_exporter": "python",
   "pygments_lexer": "ipython3",
   "version": "3.7.12"
  },
  "orig_nbformat": 4,
  "vscode": {
   "interpreter": {
    "hash": "4bf0ca942ab2581943a1595fee978a9bf32ce0728010ba78d8586dafbc211666"
   }
  }
 },
 "nbformat": 4,
 "nbformat_minor": 2
}
